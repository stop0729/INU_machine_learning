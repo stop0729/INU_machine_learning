{
 "cells": [
  {
   "cell_type": "code",
   "execution_count": 1,
   "metadata": {},
   "outputs": [],
   "source": [
    "from sklearn.model_selection import train_test_split\n",
    "from sklearn.datasets import fetch_openml"
   ]
  },
  {
   "cell_type": "code",
   "execution_count": 2,
   "metadata": {},
   "outputs": [],
   "source": [
    "#mnist데이터 불러오기\n",
    "mnist = fetch_openml('mnist_784', version = 1, as_frame=False)"
   ]
  },
  {
   "cell_type": "code",
   "execution_count": 3,
   "metadata": {},
   "outputs": [
    {
     "data": {
      "text/plain": [
       "(70000, 784)"
      ]
     },
     "execution_count": 3,
     "metadata": {},
     "output_type": "execute_result"
    }
   ],
   "source": [
    "X,y = mnist[\"data\"], mnist[\"target\"]\n",
    "X.shape"
   ]
  },
  {
   "cell_type": "code",
   "execution_count": 4,
   "metadata": {},
   "outputs": [],
   "source": [
    "#train, train_val, test 분리 위해서 split을 두번했음. 5만개는 train, 1만개는 val, 1만개는 test\n",
    "X_train_val, X_test, y_train_val, y_test = train_test_split(\n",
    "    mnist.data, mnist.target, test_size=10000, random_state=42)\n",
    "X_train, X_val, y_train, y_val = train_test_split(\n",
    "    X_train_val, y_train_val, test_size=10000, random_state=42)"
   ]
  },
  {
   "cell_type": "code",
   "execution_count": 5,
   "metadata": {},
   "outputs": [],
   "source": [
    "#다양한 예측기\n",
    "from sklearn.ensemble import RandomForestClassifier, ExtraTreesClassifier\n",
    "from sklearn.svm import LinearSVC\n",
    "from sklearn.neural_network import MLPClassifier"
   ]
  },
  {
   "cell_type": "code",
   "execution_count": 6,
   "metadata": {},
   "outputs": [],
   "source": [
    "#인스턴스 만들기\n",
    "random_forest_clf = RandomForestClassifier(n_estimators=100, random_state=42)\n",
    "extra_trees_clf = ExtraTreesClassifier(n_estimators=100, random_state=42)\n",
    "svm_clf = LinearSVC(max_iter=100, tol=20, random_state=42)\n",
    "mlp_clf = MLPClassifier(random_state=42)"
   ]
  },
  {
   "cell_type": "code",
   "execution_count": 7,
   "metadata": {},
   "outputs": [
    {
     "name": "stdout",
     "output_type": "stream",
     "text": [
      "Training the RandomForestClassifier(random_state=42)\n",
      "Training the ExtraTreesClassifier(random_state=42)\n",
      "Training the LinearSVC(max_iter=100, random_state=42, tol=20)\n",
      "Training the MLPClassifier(random_state=42)\n"
     ]
    }
   ],
   "source": [
    "#다양한 예측기 각각 훈련시키고\n",
    "estimators = [random_forest_clf, extra_trees_clf, svm_clf, mlp_clf]\n",
    "for estimator in estimators:\n",
    "    print(\"Training the\", estimator)\n",
    "    estimator.fit(X_train, y_train)"
   ]
  },
  {
   "cell_type": "code",
   "execution_count": 33,
   "metadata": {},
   "outputs": [
    {
     "data": {
      "text/plain": [
       "[0.9692, 0.9715, 0.859, 0.9662]"
      ]
     },
     "execution_count": 33,
     "metadata": {},
     "output_type": "execute_result"
    }
   ],
   "source": [
    "#성능 평가하기\n",
    "[estimator.score(X_val, y_val) for estimator in estimators]"
   ]
  },
  {
   "cell_type": "code",
   "execution_count": 9,
   "metadata": {},
   "outputs": [],
   "source": [
    "from sklearn.ensemble import VotingClassifier"
   ]
  },
  {
   "cell_type": "code",
   "execution_count": 10,
   "metadata": {},
   "outputs": [],
   "source": [
    "named_estimators = [\n",
    "    (\"random_forest_clf\", random_forest_clf),\n",
    "    (\"extra_trees_clf\", extra_trees_clf),\n",
    "    (\"svm_clf\", svm_clf),\n",
    "    (\"mlp_clf\", mlp_clf),\n",
    "]"
   ]
  },
  {
   "cell_type": "code",
   "execution_count": 11,
   "metadata": {},
   "outputs": [],
   "source": [
    "#다양한 예측기들을 토대로 앙상블 학습기 만들기\n",
    "voting_clf = VotingClassifier(named_estimators)"
   ]
  },
  {
   "cell_type": "code",
   "execution_count": 12,
   "metadata": {},
   "outputs": [
    {
     "data": {
      "text/plain": [
       "VotingClassifier(estimators=[('random_forest_clf',\n",
       "                              RandomForestClassifier(random_state=42)),\n",
       "                             ('extra_trees_clf',\n",
       "                              ExtraTreesClassifier(random_state=42)),\n",
       "                             ('svm_clf',\n",
       "                              LinearSVC(max_iter=100, random_state=42, tol=20)),\n",
       "                             ('mlp_clf', MLPClassifier(random_state=42))])"
      ]
     },
     "execution_count": 12,
     "metadata": {},
     "output_type": "execute_result"
    }
   ],
   "source": [
    "#앙상블 학습을 통한 훈련\n",
    "voting_clf.fit(X_train, y_train)"
   ]
  },
  {
   "cell_type": "code",
   "execution_count": 13,
   "metadata": {},
   "outputs": [
    {
     "data": {
      "text/plain": [
       "0.9713"
      ]
     },
     "execution_count": 13,
     "metadata": {},
     "output_type": "execute_result"
    }
   ],
   "source": [
    "#앙상블 기법을 통한 예측, 그러나 원래 svm예측기보다 낮게 나왔다.\n",
    "voting_clf.score(X_val, y_val)"
   ]
  },
  {
   "cell_type": "code",
   "execution_count": 14,
   "metadata": {
    "scrolled": true
   },
   "outputs": [
    {
     "data": {
      "text/plain": [
       "VotingClassifier(estimators=[('random_forest_clf',\n",
       "                              RandomForestClassifier(random_state=42)),\n",
       "                             ('extra_trees_clf',\n",
       "                              ExtraTreesClassifier(random_state=42)),\n",
       "                             ('svm_clf', None),\n",
       "                             ('mlp_clf', MLPClassifier(random_state=42))])"
      ]
     },
     "execution_count": 14,
     "metadata": {},
     "output_type": "execute_result"
    }
   ],
   "source": [
    "#약한 학습기들을 종합할때 정확해지는게 앙상블 학습이므로, 강한 학습기인 svm을 비활성화\n",
    "voting_clf.set_params(svm_clf=None)"
   ]
  },
  {
   "cell_type": "code",
   "execution_count": 15,
   "metadata": {},
   "outputs": [
    {
     "data": {
      "text/plain": [
       "[('random_forest_clf', RandomForestClassifier(random_state=42)),\n",
       " ('extra_trees_clf', ExtraTreesClassifier(random_state=42)),\n",
       " ('svm_clf', None),\n",
       " ('mlp_clf', MLPClassifier(random_state=42))]"
      ]
     },
     "execution_count": 15,
     "metadata": {},
     "output_type": "execute_result"
    }
   ],
   "source": [
    "#학습기 자체는 수정되었으나\n",
    "voting_clf.estimators"
   ]
  },
  {
   "cell_type": "code",
   "execution_count": 16,
   "metadata": {},
   "outputs": [
    {
     "data": {
      "text/plain": [
       "[RandomForestClassifier(random_state=42),\n",
       " ExtraTreesClassifier(random_state=42),\n",
       " LinearSVC(max_iter=100, random_state=42, tol=20),\n",
       " MLPClassifier(random_state=42)]"
      ]
     },
     "execution_count": 16,
     "metadata": {},
     "output_type": "execute_result"
    }
   ],
   "source": [
    "#훈련된 예측기는 변함이 없다\n",
    "voting_clf.estimators_"
   ]
  },
  {
   "cell_type": "code",
   "execution_count": 17,
   "metadata": {},
   "outputs": [],
   "source": [
    "#이렇게 하면 훈련된 예측기에서도 수정이 가능하다\n",
    "del voting_clf.estimators_[2]"
   ]
  },
  {
   "cell_type": "code",
   "execution_count": 18,
   "metadata": {},
   "outputs": [
    {
     "data": {
      "text/plain": [
       "[RandomForestClassifier(random_state=42),\n",
       " ExtraTreesClassifier(random_state=42),\n",
       " MLPClassifier(random_state=42)]"
      ]
     },
     "execution_count": 18,
     "metadata": {},
     "output_type": "execute_result"
    }
   ],
   "source": [
    "voting_clf.estimators_"
   ]
  },
  {
   "cell_type": "code",
   "execution_count": 29,
   "metadata": {},
   "outputs": [
    {
     "data": {
      "text/plain": [
       "0.9742"
      ]
     },
     "execution_count": 29,
     "metadata": {},
     "output_type": "execute_result"
    }
   ],
   "source": [
    "#수정된 예측기로 예측해보기\n",
    "voting_clf.score(X_val, y_val)"
   ]
  },
  {
   "cell_type": "code",
   "execution_count": 22,
   "metadata": {},
   "outputs": [],
   "source": [
    "voting_clf.voting = \"soft\""
   ]
  },
  {
   "cell_type": "code",
   "execution_count": 23,
   "metadata": {},
   "outputs": [
    {
     "data": {
      "text/plain": [
       "0.9711"
      ]
     },
     "execution_count": 23,
     "metadata": {},
     "output_type": "execute_result"
    }
   ],
   "source": [
    "#보팅방식은 드믈게 hard가 soft보다 좋게 나왔다\n",
    "voting_clf.score(X_val, y_val)"
   ]
  },
  {
   "cell_type": "code",
   "execution_count": 24,
   "metadata": {},
   "outputs": [
    {
     "data": {
      "text/plain": [
       "0.97"
      ]
     },
     "execution_count": 24,
     "metadata": {},
     "output_type": "execute_result"
    }
   ],
   "source": [
    "#val데이터셋 말고 테스트셋에 적용해보기\n",
    "voting_clf.voting = \"hard\"\n",
    "voting_clf.score(X_test, y_test)"
   ]
  },
  {
   "cell_type": "code",
   "execution_count": 53,
   "metadata": {},
   "outputs": [
    {
     "data": {
      "text/plain": [
       "[0.9645, 0.9691, 0.8566, 0.9642]"
      ]
     },
     "execution_count": 53,
     "metadata": {},
     "output_type": "execute_result"
    }
   ],
   "source": [
    "#각각의 개별 학습기에 test셋을 넣어본 결과\n",
    "[estimator.score(X_test, y_test) for estimator in estimators]"
   ]
  },
  {
   "cell_type": "markdown",
   "metadata": {},
   "source": [
    "### xgboost를 이용해서 예측해보기"
   ]
  },
  {
   "cell_type": "code",
   "execution_count": 50,
   "metadata": {},
   "outputs": [
    {
     "name": "stdout",
     "output_type": "stream",
     "text": [
      "[0]\tvalidation_0-mlogloss:2.07957\n",
      "[1]\tvalidation_0-mlogloss:1.90901\n",
      "[2]\tvalidation_0-mlogloss:1.77020\n",
      "[3]\tvalidation_0-mlogloss:1.65251\n",
      "[4]\tvalidation_0-mlogloss:1.55164\n",
      "[5]\tvalidation_0-mlogloss:1.46437\n",
      "[6]\tvalidation_0-mlogloss:1.38534\n",
      "[7]\tvalidation_0-mlogloss:1.31230\n",
      "[8]\tvalidation_0-mlogloss:1.24852\n",
      "[9]\tvalidation_0-mlogloss:1.18871\n",
      "[10]\tvalidation_0-mlogloss:1.13721\n",
      "[11]\tvalidation_0-mlogloss:1.08988\n",
      "[12]\tvalidation_0-mlogloss:1.04482\n",
      "[13]\tvalidation_0-mlogloss:1.00316\n",
      "[14]\tvalidation_0-mlogloss:0.96374\n",
      "[15]\tvalidation_0-mlogloss:0.92950\n",
      "[16]\tvalidation_0-mlogloss:0.89503\n",
      "[17]\tvalidation_0-mlogloss:0.86328\n",
      "[18]\tvalidation_0-mlogloss:0.83325\n",
      "[19]\tvalidation_0-mlogloss:0.80847\n",
      "[20]\tvalidation_0-mlogloss:0.78220\n",
      "[21]\tvalidation_0-mlogloss:0.75941\n",
      "[22]\tvalidation_0-mlogloss:0.73662\n",
      "[23]\tvalidation_0-mlogloss:0.71550\n",
      "[24]\tvalidation_0-mlogloss:0.69668\n",
      "[25]\tvalidation_0-mlogloss:0.67727\n",
      "[26]\tvalidation_0-mlogloss:0.65987\n",
      "[27]\tvalidation_0-mlogloss:0.64407\n",
      "[28]\tvalidation_0-mlogloss:0.62852\n",
      "[29]\tvalidation_0-mlogloss:0.61376\n",
      "[30]\tvalidation_0-mlogloss:0.59945\n",
      "[31]\tvalidation_0-mlogloss:0.58608\n",
      "[32]\tvalidation_0-mlogloss:0.57317\n",
      "[33]\tvalidation_0-mlogloss:0.56047\n",
      "[34]\tvalidation_0-mlogloss:0.54817\n",
      "[35]\tvalidation_0-mlogloss:0.53738\n",
      "[36]\tvalidation_0-mlogloss:0.52597\n",
      "[37]\tvalidation_0-mlogloss:0.51494\n",
      "[38]\tvalidation_0-mlogloss:0.50496\n",
      "[39]\tvalidation_0-mlogloss:0.49600\n",
      "[40]\tvalidation_0-mlogloss:0.48684\n",
      "[41]\tvalidation_0-mlogloss:0.47826\n",
      "[42]\tvalidation_0-mlogloss:0.46946\n",
      "[43]\tvalidation_0-mlogloss:0.46131\n",
      "[44]\tvalidation_0-mlogloss:0.45370\n",
      "[45]\tvalidation_0-mlogloss:0.44632\n",
      "[46]\tvalidation_0-mlogloss:0.43918\n",
      "[47]\tvalidation_0-mlogloss:0.43209\n",
      "[48]\tvalidation_0-mlogloss:0.42592\n",
      "[49]\tvalidation_0-mlogloss:0.41941\n",
      "[50]\tvalidation_0-mlogloss:0.41291\n",
      "[51]\tvalidation_0-mlogloss:0.40702\n",
      "[52]\tvalidation_0-mlogloss:0.40122\n",
      "[53]\tvalidation_0-mlogloss:0.39519\n",
      "[54]\tvalidation_0-mlogloss:0.38891\n",
      "[55]\tvalidation_0-mlogloss:0.38372\n",
      "[56]\tvalidation_0-mlogloss:0.37878\n",
      "[57]\tvalidation_0-mlogloss:0.37369\n",
      "[58]\tvalidation_0-mlogloss:0.36903\n",
      "[59]\tvalidation_0-mlogloss:0.36456\n",
      "[60]\tvalidation_0-mlogloss:0.36014\n",
      "[61]\tvalidation_0-mlogloss:0.35621\n",
      "[62]\tvalidation_0-mlogloss:0.35200\n",
      "[63]\tvalidation_0-mlogloss:0.34758\n",
      "[64]\tvalidation_0-mlogloss:0.34372\n",
      "[65]\tvalidation_0-mlogloss:0.34016\n",
      "[66]\tvalidation_0-mlogloss:0.33619\n",
      "[67]\tvalidation_0-mlogloss:0.33236\n",
      "[68]\tvalidation_0-mlogloss:0.32904\n",
      "[69]\tvalidation_0-mlogloss:0.32580\n",
      "[70]\tvalidation_0-mlogloss:0.32277\n",
      "[71]\tvalidation_0-mlogloss:0.32013\n",
      "[72]\tvalidation_0-mlogloss:0.31680\n",
      "[73]\tvalidation_0-mlogloss:0.31359\n",
      "[74]\tvalidation_0-mlogloss:0.31090\n",
      "[75]\tvalidation_0-mlogloss:0.30830\n",
      "[76]\tvalidation_0-mlogloss:0.30534\n",
      "[77]\tvalidation_0-mlogloss:0.30257\n",
      "[78]\tvalidation_0-mlogloss:0.29964\n",
      "[79]\tvalidation_0-mlogloss:0.29713\n",
      "[80]\tvalidation_0-mlogloss:0.29463\n",
      "[81]\tvalidation_0-mlogloss:0.29217\n",
      "[82]\tvalidation_0-mlogloss:0.28987\n",
      "[83]\tvalidation_0-mlogloss:0.28728\n",
      "[84]\tvalidation_0-mlogloss:0.28497\n",
      "[85]\tvalidation_0-mlogloss:0.28283\n",
      "[86]\tvalidation_0-mlogloss:0.28076\n",
      "[87]\tvalidation_0-mlogloss:0.27810\n",
      "[88]\tvalidation_0-mlogloss:0.27590\n",
      "[89]\tvalidation_0-mlogloss:0.27407\n",
      "[90]\tvalidation_0-mlogloss:0.27172\n",
      "[91]\tvalidation_0-mlogloss:0.26950\n",
      "[92]\tvalidation_0-mlogloss:0.26727\n",
      "[93]\tvalidation_0-mlogloss:0.26518\n",
      "[94]\tvalidation_0-mlogloss:0.26343\n",
      "[95]\tvalidation_0-mlogloss:0.26168\n",
      "[96]\tvalidation_0-mlogloss:0.25989\n",
      "[97]\tvalidation_0-mlogloss:0.25826\n",
      "[98]\tvalidation_0-mlogloss:0.25643\n",
      "[99]\tvalidation_0-mlogloss:0.25465\n"
     ]
    },
    {
     "data": {
      "text/plain": [
       "XGBClassifier(base_score=0.5, booster='gbtree', colsample_bylevel=1,\n",
       "              colsample_bynode=1, colsample_bytree=1, gamma=0, gpu_id=-1,\n",
       "              importance_type='gain', interaction_constraints='',\n",
       "              learning_rate=0.1, max_delta_step=0, max_depth=3,\n",
       "              min_child_weight=1, missing=nan, monotone_constraints='()',\n",
       "              n_estimators=100, n_jobs=12, num_parallel_tree=1,\n",
       "              objective='multi:softprob', random_state=0, reg_alpha=0,\n",
       "              reg_lambda=1, scale_pos_weight=None, subsample=1,\n",
       "              tree_method='exact', validate_parameters=1, verbosity=None)"
      ]
     },
     "execution_count": 50,
     "metadata": {},
     "output_type": "execute_result"
    }
   ],
   "source": [
    "from xgboost import XGBClassifier\n",
    "\n",
    "xgb_clf = XGBClassifier(n_estimators=100, learning_rate = 0.1, max_depth=3)\n",
    "evals = [(X_val, y_val)]\n",
    "xgb_clf.fit(X_train, y_train ,early_stopping_rounds=100, eval_metric='mlogloss',\n",
    "            eval_set=evals, verbose=True)"
   ]
  },
  {
   "cell_type": "code",
   "execution_count": 51,
   "metadata": {},
   "outputs": [
    {
     "data": {
      "text/plain": [
       "0.9324"
      ]
     },
     "execution_count": 51,
     "metadata": {},
     "output_type": "execute_result"
    }
   ],
   "source": [
    "xgb_clf.score(X_test, y_test)"
   ]
  },
  {
   "cell_type": "code",
   "execution_count": null,
   "metadata": {},
   "outputs": [],
   "source": []
  }
 ],
 "metadata": {
  "kernelspec": {
   "display_name": "Python 3",
   "language": "python",
   "name": "python3"
  },
  "language_info": {
   "codemirror_mode": {
    "name": "ipython",
    "version": 3
   },
   "file_extension": ".py",
   "mimetype": "text/x-python",
   "name": "python",
   "nbconvert_exporter": "python",
   "pygments_lexer": "ipython3",
   "version": "3.8.5"
  }
 },
 "nbformat": 4,
 "nbformat_minor": 4
}
